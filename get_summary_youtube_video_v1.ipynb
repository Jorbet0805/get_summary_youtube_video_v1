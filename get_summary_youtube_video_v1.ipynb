{
 "cells": [
  {
   "cell_type": "markdown",
   "id": "6901ff54-6cb3-4f89-8fc4-e671da14bc45",
   "metadata": {},
   "source": [
    "## Install dependencies"
   ]
  },
  {
   "cell_type": "code",
   "execution_count": null,
   "id": "2466ae7c-09a3-4774-9a15-25b90641e5f6",
   "metadata": {},
   "outputs": [],
   "source": [
    "#!pip install langchain openai-whisper\n",
    "#!pip install openai\n",
    "#!pip install translators gTTS\n",
    "#!pip install yt_dlp"
   ]
  },
  {
   "cell_type": "markdown",
   "id": "8aec3290-4098-4268-aded-c70b105f1bb1",
   "metadata": {},
   "source": [
    "## Import libraries needed"
   ]
  },
  {
   "cell_type": "code",
   "execution_count": null,
   "id": "d588e1b3-adc9-4616-a343-d082a77395f9",
   "metadata": {},
   "outputs": [],
   "source": [
    "from langchain import OpenAI, LLMChain\n",
    "from langchain.chains.mapreduce import MapReduceChain\n",
    "from langchain.prompts import PromptTemplate\n",
    "from langchain.chains.summarize import load_summarize_chain\n",
    "from langchain.text_splitter import RecursiveCharacterTextSplitter\n",
    "from langchain.docstore.document import Document\n",
    "import textwrap\n",
    "\n",
    "# Install whisper\n",
    "import whisper\n",
    "\n",
    "# Translate text\n",
    "import translators as ts\n",
    "from gtts import gTTS\n",
    "\n",
    "import pytube\n",
    "from pydub import AudioSegment\n",
    "from pydub.silence import split_on_silence\n",
    "from yt_dlp import YoutubeDL\n",
    "\n",
    "# Other modules\n",
    "import re\n",
    "import os\n",
    "\n",
    "import gtts.lang\n",
    "print(gtts.lang.tts_langs())"
   ]
  },
  {
   "cell_type": "markdown",
   "id": "f13506a6-1e6b-4dd3-b854-3b74d8b3c990",
   "metadata": {},
   "source": [
    "## Create a function to retrieve the YouTube video's audio:"
   ]
  },
  {
   "cell_type": "code",
   "execution_count": null,
   "id": "ff1c72f6-49cd-408f-92ae-2a67efb5c0de",
   "metadata": {},
   "outputs": [],
   "source": [
    "def get_audio(video_url,output_path='.',src='audio.mp4'):\n",
    "    youtube = pytube.YouTube(video_url,use_oauth=True,allow_oauth_cache=True )\n",
    "    audio = youtube.streams.get_audio_only()\n",
    "    audio.download(output_path=output_path, filename=src)"
   ]
  },
  {
   "cell_type": "code",
   "execution_count": null,
   "id": "fcd21ca5-15bc-4d0b-b431-329214ef652b",
   "metadata": {},
   "outputs": [],
   "source": [
    "get_audio('https://youtu.be/3SmtDBZ4e1w')\n",
    "#get_audio('https://youtu.be/yWMKYID5fr8')"
   ]
  },
  {
   "cell_type": "markdown",
   "id": "dc473a4f-2d8d-441e-aa21-fa71634ca05b",
   "metadata": {},
   "source": [
    "## Convert_audio_format"
   ]
  },
  {
   "cell_type": "code",
   "execution_count": null,
   "id": "ef32e3a3-e9c1-43ea-852e-b47565bc62ed",
   "metadata": {},
   "outputs": [],
   "source": [
    "def format_audio(src='audio.mp4',dst='audio.wav', Input_format='mp4', output_format=\"wav\"):\n",
    "    audio = AudioSegment.from_file(src,format=Input_format)\n",
    "    audio.export(dst, format=output_format)"
   ]
  },
  {
   "cell_type": "markdown",
   "id": "c581e00a-77f3-4e95-8ef0-2b3b04610ffa",
   "metadata": {},
   "source": [
    "## Transcribe audio to text whith whisper"
   ]
  },
  {
   "cell_type": "code",
   "execution_count": null,
   "id": "4b53e8ed-05b9-4369-8767-76623074d0c6",
   "metadata": {},
   "outputs": [],
   "source": [
    "def transcribe_audio_with_whisper(model='base',file_output='audio.mp4'):\n",
    "    model = whisper.load_model(model)\n",
    "    result = model.transcribe(file_output)\n",
    "    transcribed_text = result['text']\n",
    "    return transcribed_text"
   ]
  },
  {
   "cell_type": "markdown",
   "id": "2467b228-a6aa-4808-818e-8e3a92824b88",
   "metadata": {},
   "source": [
    "## Save transcript (text)"
   ]
  },
  {
   "cell_type": "code",
   "execution_count": null,
   "id": "bbebceba-08df-4491-a392-a14d478533d4",
   "metadata": {},
   "outputs": [],
   "source": [
    "def save_transcript(text,save_file=\"./texto.txt\"):\n",
    "    # Save the transcribed text to a file\n",
    "    with open(save_file, \"w\") as file:\n",
    "        file.write(text)\n",
    "\n",
    "#print(\"Transcribed text saved to text.txt\")"
   ]
  },
  {
   "cell_type": "markdown",
   "id": "0791ad3d-9593-47a1-a7c8-3e7164734300",
   "metadata": {},
   "source": [
    "## Summarize text"
   ]
  },
  {
   "cell_type": "code",
   "execution_count": null,
   "id": "63d7b076-8849-4e17-b5bd-eb0f0e6f0dea",
   "metadata": {},
   "outputs": [],
   "source": [
    "def summarize_text(model_name,file_text='text.txt'):\n",
    "\n",
    "    llm = OpenAI(model_name=model_name, temperature=0)\n",
    "\n",
    "    text_splitter = RecursiveCharacterTextSplitter(\n",
    "        chunk_size=1000, chunk_overlap=0, separators=[\" \", \",\", \"\\n\"]\n",
    "    )\n",
    "\n",
    "    with open(file_text) as f:\n",
    "        text = f.read()\n",
    "\n",
    "    texts = text_splitter.split_text(text)\n",
    "    docs = [Document(page_content=t) for t in texts[:4]]\n",
    "\n",
    "    chain = load_summarize_chain(llm, chain_type=\"map_reduce\")\n",
    "\n",
    "    output_summary = chain.run(docs)\n",
    "    wrapped_text = textwrap.fill(output_summary, width=100)\n",
    "    #print(wrapped_text)\n",
    "    return wrapped_text"
   ]
  },
  {
   "cell_type": "markdown",
   "id": "b7f31fba-e492-4d65-8500-edaeb3b20464",
   "metadata": {},
   "source": [
    "## Save summary to a text file"
   ]
  },
  {
   "cell_type": "code",
   "execution_count": null,
   "id": "bce8ba12-1253-4f42-b7c6-40af60c52667",
   "metadata": {},
   "outputs": [],
   "source": [
    "def save_summary_text(text,save_file=\"summary_english.txt\"):\n",
    "\n",
    "    # Save summary to a text file\n",
    "    with open(save_file, 'w', encoding='utf-8') as f:\n",
    "        f.write(text)"
   ]
  },
  {
   "cell_type": "markdown",
   "id": "b090a875-e0a4-4f4c-a1e7-011374abd965",
   "metadata": {},
   "source": [
    "## Translate to other language"
   ]
  },
  {
   "cell_type": "code",
   "execution_count": null,
   "id": "128473f1-cc62-4ffa-92db-a3b4c297ffc1",
   "metadata": {},
   "outputs": [],
   "source": [
    "def translate_language(text,lang_trans='es'):\n",
    "\n",
    "    # Translate to Malay language\n",
    "    #lang_trans = 'es'\n",
    "    summary_ms = ts.translate_text(text,from_language='auto',to_language=lang_trans)\n",
    "    return summary_ms"
   ]
  },
  {
   "cell_type": "markdown",
   "id": "9818b124-1055-4628-a847-a40837ba5837",
   "metadata": {},
   "source": [
    "## Transcript summary text to audio"
   ]
  },
  {
   "cell_type": "code",
   "execution_count": null,
   "id": "a61e8c7f-d450-40b4-a149-de1a93999d53",
   "metadata": {},
   "outputs": [],
   "source": [
    "def text_to_audio(text,save_output_file='audio_ouput',language=\"\"):\n",
    "\n",
    "    # the text that you want to convert to audio\n",
    "    # text = \"your text here\"\n",
    "    #text = summary_ms\n",
    "\n",
    "    # language in which you want to convert\n",
    "    #language = lang_trans\n",
    "\n",
    "    # Passing the text and language to the engine,\n",
    "    # here we have marked slow=False. Which tells\n",
    "    # the module that the converted audio should\n",
    "    # have a high speed\n",
    "    myobj = gTTS(text=text, lang=language, slow=False)\n",
    "\n",
    "    # Saving the converted audio in a mp3 file named\n",
    "    # output\n",
    "    myobj.save(f\"{save_output_file}_{language}.mp3\")"
   ]
  },
  {
   "cell_type": "markdown",
   "id": "ebbc559b-31d7-48a6-86d9-9316f4b59a4b",
   "metadata": {},
   "source": [
    "## Example"
   ]
  },
  {
   "cell_type": "code",
   "execution_count": null,
   "id": "50621d7f-e1c5-4640-a75b-b7748a954336",
   "metadata": {},
   "outputs": [],
   "source": [
    "# To use the program change the url and lang\n",
    "# url: setting the youtube video's url \n",
    "# lan: setting the audio output language\n",
    "\n",
    "video_url = 'https://youtu.be/3SmtDBZ4e1w'\n",
    "lang = 'es'\n",
    "\n",
    "if __name__ == '__main__':\n",
    "    audio_file = 'audio.mp4'\n",
    "    get_audio(video_url,output_path='.',src=audio_file)\n",
    "    format_audio(src='audio.mp4',dst='audio.wav', Input_format='mp4', output_format=\"wav\")\n",
    "    text = transcribe_audio_with_whisper(model='base',file_output=audio_file)\n",
    "    save_transcript(text,save_file=\"./transcribe_text.txt\")\n",
    "    print(150*'*')\n",
    "    print(text)\n",
    "    text = summarize_text(model_name=\"text-davinci-003\",file_text=\"./transcribe_text.txt\")\n",
    "    print(150*'*')\n",
    "    print(text)\n",
    "    save_summary_text(text,save_file=\"summary_english.txt\")\n",
    "    \n",
    "    text = translate_language(text,lang_trans=lang)\n",
    "    print(150*'*')\n",
    "    print(text)\n",
    "    text_to_audio(text,save_output_file='audio_ouput',language=lang)"
   ]
  },
  {
   "cell_type": "code",
   "execution_count": null,
   "id": "d2fb7c8c-94e7-4e47-82aa-dc4ae51e2fd1",
   "metadata": {},
   "outputs": [],
   "source": []
  }
 ],
 "metadata": {
  "kernelspec": {
   "display_name": "Python 3 (ipykernel)",
   "language": "python",
   "name": "python3"
  },
  "language_info": {
   "codemirror_mode": {
    "name": "ipython",
    "version": 3
   },
   "file_extension": ".py",
   "mimetype": "text/x-python",
   "name": "python",
   "nbconvert_exporter": "python",
   "pygments_lexer": "ipython3",
   "version": "3.11.5"
  }
 },
 "nbformat": 4,
 "nbformat_minor": 5
}
